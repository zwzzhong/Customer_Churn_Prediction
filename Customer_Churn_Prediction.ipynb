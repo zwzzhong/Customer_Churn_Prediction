{
  "nbformat": 4,
  "nbformat_minor": 0,
  "metadata": {
    "colab": {
      "name": "Customer_Churn_Prediction.ipynb",
      "version": "0.3.2",
      "provenance": [],
      "collapsed_sections": [],
      "include_colab_link": true
    },
    "kernelspec": {
      "name": "python3",
      "display_name": "Python 3"
    }
  },
  "cells": [
    {
      "cell_type": "markdown",
      "metadata": {
        "id": "view-in-github",
        "colab_type": "text"
      },
      "source": [
        "<a href=\"https://colab.research.google.com/github/zwzzhong/Customer_Churn_Prediction/blob/master/Customer_Churn_Prediction.ipynb\" target=\"_parent\"><img src=\"https://colab.research.google.com/assets/colab-badge.svg\" alt=\"Open In Colab\"/></a>"
      ]
    },
    {
      "cell_type": "markdown",
      "metadata": {
        "id": "u5GAiV2CRvP5",
        "colab_type": "text"
      },
      "source": [
        "#**Customer Churn Prediction**"
      ]
    },
    {
      "cell_type": "markdown",
      "metadata": {
        "id": "Ao3J8Frbpz4c",
        "colab_type": "text"
      },
      "source": [
        " **Extracted from sgi.com, the dataset included 20 attributes of customers for us to predict which customer is about to churn using machine laerning algorithms.** \n",
        "\n",
        "**Data source: https://www.kaggle.com/c/customer-churn-prediction/data**"
      ]
    },
    {
      "cell_type": "markdown",
      "metadata": {
        "id": "X6e1WWmeC4lM",
        "colab_type": "text"
      },
      "source": [
        "###**Goal: Predict whether customer about to churn or not.**"
      ]
    },
    {
      "cell_type": "markdown",
      "metadata": {
        "id": "hauNf-0nR3j8",
        "colab_type": "text"
      },
      "source": [
        "#Ingest"
      ]
    },
    {
      "cell_type": "markdown",
      "metadata": {
        "id": "mxX4U4JdQoB2",
        "colab_type": "text"
      },
      "source": [
        "### **Connect to data via Google Drive**"
      ]
    },
    {
      "cell_type": "code",
      "metadata": {
        "id": "hbf72j8jQFTe",
        "colab_type": "code",
        "outputId": "bc4cd417-0ca5-4719-ddd4-238c8f4e474e",
        "colab": {
          "base_uri": "https://localhost:8080/",
          "height": 122
        }
      },
      "source": [
        "from google.colab import drive\n",
        "drive.mount('/content/drive', force_remount=True)"
      ],
      "execution_count": 0,
      "outputs": [
        {
          "output_type": "stream",
          "text": [
            "Go to this URL in a browser: https://accounts.google.com/o/oauth2/auth?client_id=947318989803-6bn6qk8qdgf4n4g3pfee6491hc0brc4i.apps.googleusercontent.com&redirect_uri=urn%3Aietf%3Awg%3Aoauth%3A2.0%3Aoob&scope=email%20https%3A%2F%2Fwww.googleapis.com%2Fauth%2Fdocs.test%20https%3A%2F%2Fwww.googleapis.com%2Fauth%2Fdrive%20https%3A%2F%2Fwww.googleapis.com%2Fauth%2Fdrive.photos.readonly%20https%3A%2F%2Fwww.googleapis.com%2Fauth%2Fpeopleapi.readonly&response_type=code\n",
            "\n",
            "Enter your authorization code:\n",
            "··········\n",
            "Mounted at /content/drive\n"
          ],
          "name": "stdout"
        }
      ]
    },
    {
      "cell_type": "markdown",
      "metadata": {
        "id": "8sAtFrGMQ5-H",
        "colab_type": "text"
      },
      "source": [
        "### **Import packages**"
      ]
    },
    {
      "cell_type": "code",
      "metadata": {
        "id": "FFYW2vG-pyvd",
        "colab_type": "code",
        "colab": {}
      },
      "source": [
        "import pandas as pd\n",
        "import numpy as np\n",
        "import random as rnd\n",
        "import seaborn as sns\n",
        "import matplotlib.pyplot as plt\n",
        "%matplotlib inline\n",
        "import warnings\n",
        "warnings.filterwarnings('ignore')\n",
        "from sklearn import preprocessing\n",
        "from sklearn.model_selection import train_test_split\n",
        "from sklearn.model_selection import cross_validate\n",
        "from sklearn.metrics import recall_score"
      ],
      "execution_count": 0,
      "outputs": []
    },
    {
      "cell_type": "markdown",
      "metadata": {
        "id": "2u8NAXEQRFVW",
        "colab_type": "text"
      },
      "source": [
        "### **Overview the Data**"
      ]
    },
    {
      "cell_type": "code",
      "metadata": {
        "id": "k5iOnpLExXpX",
        "colab_type": "code",
        "outputId": "faed6d29-ba99-4196-cf88-1a75df5dc5b4",
        "colab": {
          "base_uri": "https://localhost:8080/",
          "height": 306
        }
      },
      "source": [
        "# Read in the dataset\n",
        "churn = pd.read_csv(\"/content/drive/My Drive/customer-churn-prediction/churn_train.txt\", sep=',', index_col=False)\n",
        "#churn = pd.read_csv(\"/content/drive/My Drive/customer-churn-prediction/churn_train.csv\", sep=',')\n",
        "churn.head()"
      ],
      "execution_count": 0,
      "outputs": [
        {
          "output_type": "execute_result",
          "data": {
            "text/html": [
              "<div>\n",
              "<style scoped>\n",
              "    .dataframe tbody tr th:only-of-type {\n",
              "        vertical-align: middle;\n",
              "    }\n",
              "\n",
              "    .dataframe tbody tr th {\n",
              "        vertical-align: top;\n",
              "    }\n",
              "\n",
              "    .dataframe thead th {\n",
              "        text-align: right;\n",
              "    }\n",
              "</style>\n",
              "<table border=\"1\" class=\"dataframe\">\n",
              "  <thead>\n",
              "    <tr style=\"text-align: right;\">\n",
              "      <th></th>\n",
              "      <th>st</th>\n",
              "      <th>acclen</th>\n",
              "      <th>arcode</th>\n",
              "      <th>phnum</th>\n",
              "      <th>intplan</th>\n",
              "      <th>voice</th>\n",
              "      <th>nummailmes</th>\n",
              "      <th>tdmin</th>\n",
              "      <th>tdcal</th>\n",
              "      <th>tdchar</th>\n",
              "      <th>temin</th>\n",
              "      <th>tecal</th>\n",
              "      <th>tecahr</th>\n",
              "      <th>tnmin</th>\n",
              "      <th>tn cal</th>\n",
              "      <th>tnchar</th>\n",
              "      <th>timin</th>\n",
              "      <th>tical</th>\n",
              "      <th>tichar</th>\n",
              "      <th>ncsc</th>\n",
              "      <th>label</th>\n",
              "    </tr>\n",
              "  </thead>\n",
              "  <tbody>\n",
              "    <tr>\n",
              "      <th>0</th>\n",
              "      <td>KS</td>\n",
              "      <td>128</td>\n",
              "      <td>415</td>\n",
              "      <td>382-4657</td>\n",
              "      <td>no</td>\n",
              "      <td>yes</td>\n",
              "      <td>25</td>\n",
              "      <td>265.1</td>\n",
              "      <td>110</td>\n",
              "      <td>45.07</td>\n",
              "      <td>197.4</td>\n",
              "      <td>99</td>\n",
              "      <td>16.78</td>\n",
              "      <td>244.7</td>\n",
              "      <td>91</td>\n",
              "      <td>11.01</td>\n",
              "      <td>10.0</td>\n",
              "      <td>3</td>\n",
              "      <td>2.70</td>\n",
              "      <td>1</td>\n",
              "      <td>False.</td>\n",
              "    </tr>\n",
              "    <tr>\n",
              "      <th>1</th>\n",
              "      <td>OH</td>\n",
              "      <td>107</td>\n",
              "      <td>415</td>\n",
              "      <td>371-7191</td>\n",
              "      <td>no</td>\n",
              "      <td>yes</td>\n",
              "      <td>26</td>\n",
              "      <td>161.6</td>\n",
              "      <td>123</td>\n",
              "      <td>27.47</td>\n",
              "      <td>195.5</td>\n",
              "      <td>103</td>\n",
              "      <td>16.62</td>\n",
              "      <td>254.4</td>\n",
              "      <td>103</td>\n",
              "      <td>11.45</td>\n",
              "      <td>13.7</td>\n",
              "      <td>3</td>\n",
              "      <td>3.70</td>\n",
              "      <td>1</td>\n",
              "      <td>False.</td>\n",
              "    </tr>\n",
              "    <tr>\n",
              "      <th>2</th>\n",
              "      <td>NJ</td>\n",
              "      <td>137</td>\n",
              "      <td>415</td>\n",
              "      <td>358-1921</td>\n",
              "      <td>no</td>\n",
              "      <td>no</td>\n",
              "      <td>0</td>\n",
              "      <td>243.4</td>\n",
              "      <td>114</td>\n",
              "      <td>41.38</td>\n",
              "      <td>121.2</td>\n",
              "      <td>110</td>\n",
              "      <td>10.30</td>\n",
              "      <td>162.6</td>\n",
              "      <td>104</td>\n",
              "      <td>7.32</td>\n",
              "      <td>12.2</td>\n",
              "      <td>5</td>\n",
              "      <td>3.29</td>\n",
              "      <td>0</td>\n",
              "      <td>False.</td>\n",
              "    </tr>\n",
              "    <tr>\n",
              "      <th>3</th>\n",
              "      <td>OH</td>\n",
              "      <td>84</td>\n",
              "      <td>408</td>\n",
              "      <td>375-9999</td>\n",
              "      <td>yes</td>\n",
              "      <td>no</td>\n",
              "      <td>0</td>\n",
              "      <td>299.4</td>\n",
              "      <td>71</td>\n",
              "      <td>50.90</td>\n",
              "      <td>61.9</td>\n",
              "      <td>88</td>\n",
              "      <td>5.26</td>\n",
              "      <td>196.9</td>\n",
              "      <td>89</td>\n",
              "      <td>8.86</td>\n",
              "      <td>6.6</td>\n",
              "      <td>7</td>\n",
              "      <td>1.78</td>\n",
              "      <td>2</td>\n",
              "      <td>False.</td>\n",
              "    </tr>\n",
              "    <tr>\n",
              "      <th>4</th>\n",
              "      <td>OK</td>\n",
              "      <td>75</td>\n",
              "      <td>415</td>\n",
              "      <td>330-6626</td>\n",
              "      <td>yes</td>\n",
              "      <td>no</td>\n",
              "      <td>0</td>\n",
              "      <td>166.7</td>\n",
              "      <td>113</td>\n",
              "      <td>28.34</td>\n",
              "      <td>148.3</td>\n",
              "      <td>122</td>\n",
              "      <td>12.61</td>\n",
              "      <td>186.9</td>\n",
              "      <td>121</td>\n",
              "      <td>8.41</td>\n",
              "      <td>10.1</td>\n",
              "      <td>3</td>\n",
              "      <td>2.73</td>\n",
              "      <td>3</td>\n",
              "      <td>False.</td>\n",
              "    </tr>\n",
              "  </tbody>\n",
              "</table>\n",
              "</div>"
            ],
            "text/plain": [
              "   st   acclen   arcode      phnum  ...  tical  tichar   ncsc    label\n",
              "0  KS      128      415   382-4657  ...      3    2.70      1   False.\n",
              "1  OH      107      415   371-7191  ...      3    3.70      1   False.\n",
              "2  NJ      137      415   358-1921  ...      5    3.29      0   False.\n",
              "3  OH       84      408   375-9999  ...      7    1.78      2   False.\n",
              "4  OK       75      415   330-6626  ...      3    2.73      3   False.\n",
              "\n",
              "[5 rows x 21 columns]"
            ]
          },
          "metadata": {
            "tags": []
          },
          "execution_count": 3
        }
      ]
    },
    {
      "cell_type": "code",
      "metadata": {
        "id": "T6w8_5R93hQd",
        "colab_type": "code",
        "outputId": "834c2508-2929-4ca6-b906-b8349c4b8899",
        "colab": {
          "base_uri": "https://localhost:8080/",
          "height": 459
        }
      },
      "source": [
        "churn.info()"
      ],
      "execution_count": 0,
      "outputs": [
        {
          "output_type": "stream",
          "text": [
            "<class 'pandas.core.frame.DataFrame'>\n",
            "RangeIndex: 3333 entries, 0 to 3332\n",
            "Data columns (total 21 columns):\n",
            "st            3333 non-null object\n",
            " acclen       3333 non-null int64\n",
            " arcode       3333 non-null int64\n",
            " phnum        3333 non-null object\n",
            " intplan      3333 non-null object\n",
            " voice        3333 non-null object\n",
            "nummailmes    3333 non-null int64\n",
            " tdmin        3333 non-null float64\n",
            " tdcal        3333 non-null int64\n",
            " tdchar       3333 non-null float64\n",
            " temin        3333 non-null float64\n",
            " tecal        3333 non-null int64\n",
            " tecahr       3333 non-null float64\n",
            " tnmin        3333 non-null float64\n",
            " tn cal       3333 non-null int64\n",
            " tnchar       3333 non-null float64\n",
            " timin        3333 non-null float64\n",
            " tical        3333 non-null int64\n",
            " tichar       3333 non-null float64\n",
            " ncsc         3333 non-null int64\n",
            " label        3333 non-null object\n",
            "dtypes: float64(8), int64(8), object(5)\n",
            "memory usage: 546.9+ KB\n"
          ],
          "name": "stdout"
        }
      ]
    },
    {
      "cell_type": "code",
      "metadata": {
        "id": "rs7AfGV_3qTr",
        "colab_type": "code",
        "outputId": "a5b8a680-1603-4fd5-ee55-ea1bab6c4c23",
        "colab": {
          "base_uri": "https://localhost:8080/",
          "height": 317
        }
      },
      "source": [
        "churn.describe()"
      ],
      "execution_count": 0,
      "outputs": [
        {
          "output_type": "execute_result",
          "data": {
            "text/html": [
              "<div>\n",
              "<style scoped>\n",
              "    .dataframe tbody tr th:only-of-type {\n",
              "        vertical-align: middle;\n",
              "    }\n",
              "\n",
              "    .dataframe tbody tr th {\n",
              "        vertical-align: top;\n",
              "    }\n",
              "\n",
              "    .dataframe thead th {\n",
              "        text-align: right;\n",
              "    }\n",
              "</style>\n",
              "<table border=\"1\" class=\"dataframe\">\n",
              "  <thead>\n",
              "    <tr style=\"text-align: right;\">\n",
              "      <th></th>\n",
              "      <th>acclen</th>\n",
              "      <th>arcode</th>\n",
              "      <th>nummailmes</th>\n",
              "      <th>tdmin</th>\n",
              "      <th>tdcal</th>\n",
              "      <th>tdchar</th>\n",
              "      <th>temin</th>\n",
              "      <th>tecal</th>\n",
              "      <th>tecahr</th>\n",
              "      <th>tnmin</th>\n",
              "      <th>tn cal</th>\n",
              "      <th>tnchar</th>\n",
              "      <th>timin</th>\n",
              "      <th>tical</th>\n",
              "      <th>tichar</th>\n",
              "      <th>ncsc</th>\n",
              "    </tr>\n",
              "  </thead>\n",
              "  <tbody>\n",
              "    <tr>\n",
              "      <th>count</th>\n",
              "      <td>3333.000000</td>\n",
              "      <td>3333.000000</td>\n",
              "      <td>3333.000000</td>\n",
              "      <td>3333.000000</td>\n",
              "      <td>3333.000000</td>\n",
              "      <td>3333.000000</td>\n",
              "      <td>3333.000000</td>\n",
              "      <td>3333.000000</td>\n",
              "      <td>3333.000000</td>\n",
              "      <td>3333.000000</td>\n",
              "      <td>3333.000000</td>\n",
              "      <td>3333.000000</td>\n",
              "      <td>3333.000000</td>\n",
              "      <td>3333.000000</td>\n",
              "      <td>3333.000000</td>\n",
              "      <td>3333.000000</td>\n",
              "    </tr>\n",
              "    <tr>\n",
              "      <th>mean</th>\n",
              "      <td>101.064806</td>\n",
              "      <td>437.182418</td>\n",
              "      <td>8.099010</td>\n",
              "      <td>179.775098</td>\n",
              "      <td>100.435644</td>\n",
              "      <td>30.562307</td>\n",
              "      <td>200.980348</td>\n",
              "      <td>100.114311</td>\n",
              "      <td>17.083540</td>\n",
              "      <td>200.872037</td>\n",
              "      <td>100.107711</td>\n",
              "      <td>9.039325</td>\n",
              "      <td>10.237294</td>\n",
              "      <td>4.479448</td>\n",
              "      <td>2.764581</td>\n",
              "      <td>1.562856</td>\n",
              "    </tr>\n",
              "    <tr>\n",
              "      <th>std</th>\n",
              "      <td>39.822106</td>\n",
              "      <td>42.371290</td>\n",
              "      <td>13.688365</td>\n",
              "      <td>54.467389</td>\n",
              "      <td>20.069084</td>\n",
              "      <td>9.259435</td>\n",
              "      <td>50.713844</td>\n",
              "      <td>19.922625</td>\n",
              "      <td>4.310668</td>\n",
              "      <td>50.573847</td>\n",
              "      <td>19.568609</td>\n",
              "      <td>2.275873</td>\n",
              "      <td>2.791840</td>\n",
              "      <td>2.461214</td>\n",
              "      <td>0.753773</td>\n",
              "      <td>1.315491</td>\n",
              "    </tr>\n",
              "    <tr>\n",
              "      <th>min</th>\n",
              "      <td>1.000000</td>\n",
              "      <td>408.000000</td>\n",
              "      <td>0.000000</td>\n",
              "      <td>0.000000</td>\n",
              "      <td>0.000000</td>\n",
              "      <td>0.000000</td>\n",
              "      <td>0.000000</td>\n",
              "      <td>0.000000</td>\n",
              "      <td>0.000000</td>\n",
              "      <td>23.200000</td>\n",
              "      <td>33.000000</td>\n",
              "      <td>1.040000</td>\n",
              "      <td>0.000000</td>\n",
              "      <td>0.000000</td>\n",
              "      <td>0.000000</td>\n",
              "      <td>0.000000</td>\n",
              "    </tr>\n",
              "    <tr>\n",
              "      <th>25%</th>\n",
              "      <td>74.000000</td>\n",
              "      <td>408.000000</td>\n",
              "      <td>0.000000</td>\n",
              "      <td>143.700000</td>\n",
              "      <td>87.000000</td>\n",
              "      <td>24.430000</td>\n",
              "      <td>166.600000</td>\n",
              "      <td>87.000000</td>\n",
              "      <td>14.160000</td>\n",
              "      <td>167.000000</td>\n",
              "      <td>87.000000</td>\n",
              "      <td>7.520000</td>\n",
              "      <td>8.500000</td>\n",
              "      <td>3.000000</td>\n",
              "      <td>2.300000</td>\n",
              "      <td>1.000000</td>\n",
              "    </tr>\n",
              "    <tr>\n",
              "      <th>50%</th>\n",
              "      <td>101.000000</td>\n",
              "      <td>415.000000</td>\n",
              "      <td>0.000000</td>\n",
              "      <td>179.400000</td>\n",
              "      <td>101.000000</td>\n",
              "      <td>30.500000</td>\n",
              "      <td>201.400000</td>\n",
              "      <td>100.000000</td>\n",
              "      <td>17.120000</td>\n",
              "      <td>201.200000</td>\n",
              "      <td>100.000000</td>\n",
              "      <td>9.050000</td>\n",
              "      <td>10.300000</td>\n",
              "      <td>4.000000</td>\n",
              "      <td>2.780000</td>\n",
              "      <td>1.000000</td>\n",
              "    </tr>\n",
              "    <tr>\n",
              "      <th>75%</th>\n",
              "      <td>127.000000</td>\n",
              "      <td>510.000000</td>\n",
              "      <td>20.000000</td>\n",
              "      <td>216.400000</td>\n",
              "      <td>114.000000</td>\n",
              "      <td>36.790000</td>\n",
              "      <td>235.300000</td>\n",
              "      <td>114.000000</td>\n",
              "      <td>20.000000</td>\n",
              "      <td>235.300000</td>\n",
              "      <td>113.000000</td>\n",
              "      <td>10.590000</td>\n",
              "      <td>12.100000</td>\n",
              "      <td>6.000000</td>\n",
              "      <td>3.270000</td>\n",
              "      <td>2.000000</td>\n",
              "    </tr>\n",
              "    <tr>\n",
              "      <th>max</th>\n",
              "      <td>243.000000</td>\n",
              "      <td>510.000000</td>\n",
              "      <td>51.000000</td>\n",
              "      <td>350.800000</td>\n",
              "      <td>165.000000</td>\n",
              "      <td>59.640000</td>\n",
              "      <td>363.700000</td>\n",
              "      <td>170.000000</td>\n",
              "      <td>30.910000</td>\n",
              "      <td>395.000000</td>\n",
              "      <td>175.000000</td>\n",
              "      <td>17.770000</td>\n",
              "      <td>20.000000</td>\n",
              "      <td>20.000000</td>\n",
              "      <td>5.400000</td>\n",
              "      <td>9.000000</td>\n",
              "    </tr>\n",
              "  </tbody>\n",
              "</table>\n",
              "</div>"
            ],
            "text/plain": [
              "            acclen       arcode  ...       tichar         ncsc\n",
              "count  3333.000000  3333.000000  ...  3333.000000  3333.000000\n",
              "mean    101.064806   437.182418  ...     2.764581     1.562856\n",
              "std      39.822106    42.371290  ...     0.753773     1.315491\n",
              "min       1.000000   408.000000  ...     0.000000     0.000000\n",
              "25%      74.000000   408.000000  ...     2.300000     1.000000\n",
              "50%     101.000000   415.000000  ...     2.780000     1.000000\n",
              "75%     127.000000   510.000000  ...     3.270000     2.000000\n",
              "max     243.000000   510.000000  ...     5.400000     9.000000\n",
              "\n",
              "[8 rows x 16 columns]"
            ]
          },
          "metadata": {
            "tags": []
          },
          "execution_count": 5
        }
      ]
    },
    {
      "cell_type": "markdown",
      "metadata": {
        "id": "Z9jfkpo7SVog",
        "colab_type": "text"
      },
      "source": [
        "#Data Preprocessing"
      ]
    },
    {
      "cell_type": "markdown",
      "metadata": {
        "id": "UeBh0dAVSFKB",
        "colab_type": "text"
      },
      "source": [
        "**Select the columns we want**"
      ]
    },
    {
      "cell_type": "code",
      "metadata": {
        "id": "PeWWMC5-cs_a",
        "colab_type": "code",
        "outputId": "0ab1007a-0dc5-4b84-ceb2-84c253919f73",
        "colab": {
          "base_uri": "https://localhost:8080/",
          "height": 102
        }
      },
      "source": [
        "churn.columns"
      ],
      "execution_count": 0,
      "outputs": [
        {
          "output_type": "execute_result",
          "data": {
            "text/plain": [
              "Index(['st', ' acclen', ' arcode', ' phnum', ' intplan', ' voice',\n",
              "       'nummailmes', ' tdmin', ' tdcal', ' tdchar', ' temin', ' tecal',\n",
              "       ' tecahr', ' tnmin', ' tn cal', ' tnchar', ' timin', ' tical',\n",
              "       ' tichar', ' ncsc', ' label'],\n",
              "      dtype='object')"
            ]
          },
          "metadata": {
            "tags": []
          },
          "execution_count": 6
        }
      ]
    },
    {
      "cell_type": "markdown",
      "metadata": {
        "id": "Su6f0F2bjBmj",
        "colab_type": "text"
      },
      "source": [
        "st - state\n",
        "\n",
        "acclen - account length\n",
        "\n",
        "arcode - area code\n",
        "\n",
        "phnum - phone number\n",
        "\n",
        "intplan - internet plan (yes/no)\n",
        "\n",
        "voice - voice\n",
        "\n",
        "nummailmes - no of email messages\n",
        "\n",
        "tdmin - total day minutes\n",
        "\n",
        "tdcal - total day time calls\n",
        "\n",
        "tdchar - total day time charges\n",
        "\n",
        "temin - total evening time minutes\n",
        "\n",
        "tecal - total evening time calls\n",
        "\n",
        "tecahr - total evening time charges\n",
        "\n",
        "tnmin - total night time minutes\n",
        "\n",
        "tn cal - total night time calls\n",
        "\n",
        "tnchar - total night time charges\n",
        "\n",
        "timin - total international minutes\n",
        "\n",
        "tical - total international calls\n",
        "\n",
        "tichar - total international charges\n",
        "\n",
        "ncsc - no. of customer services calls\n",
        "\n",
        "label - Churned? (True/False)"
      ]
    },
    {
      "cell_type": "code",
      "metadata": {
        "id": "p2uqej4jcbnA",
        "colab_type": "code",
        "colab": {}
      },
      "source": [
        "churn = churn.drop([' arcode', ' phnum'], axis=1)"
      ],
      "execution_count": 0,
      "outputs": []
    },
    {
      "cell_type": "code",
      "metadata": {
        "id": "cMAMLtJrtNns",
        "colab_type": "code",
        "outputId": "9642fde3-ef8b-4f99-8209-ffedd9b04fbb",
        "colab": {
          "base_uri": "https://localhost:8080/",
          "height": 204
        }
      },
      "source": [
        "churn.loc[churn[' label'] == ' True.', 'churn'] = 1\n",
        "churn.loc[churn[' label'] == ' False.', 'churn'] = 0\n",
        "churn.loc[churn[' intplan'] == ' no', 'intplan'] = 0\n",
        "churn.loc[churn[' intplan'] == ' yes', 'intplan'] = 1\n",
        "churn.loc[churn[' voice'] == ' no', 'voice'] = 0\n",
        "churn.loc[churn[' voice'] == ' yes', 'voice'] = 1\n",
        "churn = churn.drop([' label', ' intplan', ' voice'], axis=1)\n",
        "churn.head()"
      ],
      "execution_count": 0,
      "outputs": [
        {
          "output_type": "execute_result",
          "data": {
            "text/html": [
              "<div>\n",
              "<style scoped>\n",
              "    .dataframe tbody tr th:only-of-type {\n",
              "        vertical-align: middle;\n",
              "    }\n",
              "\n",
              "    .dataframe tbody tr th {\n",
              "        vertical-align: top;\n",
              "    }\n",
              "\n",
              "    .dataframe thead th {\n",
              "        text-align: right;\n",
              "    }\n",
              "</style>\n",
              "<table border=\"1\" class=\"dataframe\">\n",
              "  <thead>\n",
              "    <tr style=\"text-align: right;\">\n",
              "      <th></th>\n",
              "      <th>st</th>\n",
              "      <th>acclen</th>\n",
              "      <th>nummailmes</th>\n",
              "      <th>tdmin</th>\n",
              "      <th>tdcal</th>\n",
              "      <th>tdchar</th>\n",
              "      <th>temin</th>\n",
              "      <th>tecal</th>\n",
              "      <th>tecahr</th>\n",
              "      <th>tnmin</th>\n",
              "      <th>tn cal</th>\n",
              "      <th>tnchar</th>\n",
              "      <th>timin</th>\n",
              "      <th>tical</th>\n",
              "      <th>tichar</th>\n",
              "      <th>ncsc</th>\n",
              "      <th>churn</th>\n",
              "      <th>intplan</th>\n",
              "      <th>voice</th>\n",
              "    </tr>\n",
              "  </thead>\n",
              "  <tbody>\n",
              "    <tr>\n",
              "      <th>0</th>\n",
              "      <td>KS</td>\n",
              "      <td>128</td>\n",
              "      <td>25</td>\n",
              "      <td>265.1</td>\n",
              "      <td>110</td>\n",
              "      <td>45.07</td>\n",
              "      <td>197.4</td>\n",
              "      <td>99</td>\n",
              "      <td>16.78</td>\n",
              "      <td>244.7</td>\n",
              "      <td>91</td>\n",
              "      <td>11.01</td>\n",
              "      <td>10.0</td>\n",
              "      <td>3</td>\n",
              "      <td>2.70</td>\n",
              "      <td>1</td>\n",
              "      <td>0.0</td>\n",
              "      <td>0.0</td>\n",
              "      <td>1.0</td>\n",
              "    </tr>\n",
              "    <tr>\n",
              "      <th>1</th>\n",
              "      <td>OH</td>\n",
              "      <td>107</td>\n",
              "      <td>26</td>\n",
              "      <td>161.6</td>\n",
              "      <td>123</td>\n",
              "      <td>27.47</td>\n",
              "      <td>195.5</td>\n",
              "      <td>103</td>\n",
              "      <td>16.62</td>\n",
              "      <td>254.4</td>\n",
              "      <td>103</td>\n",
              "      <td>11.45</td>\n",
              "      <td>13.7</td>\n",
              "      <td>3</td>\n",
              "      <td>3.70</td>\n",
              "      <td>1</td>\n",
              "      <td>0.0</td>\n",
              "      <td>0.0</td>\n",
              "      <td>1.0</td>\n",
              "    </tr>\n",
              "    <tr>\n",
              "      <th>2</th>\n",
              "      <td>NJ</td>\n",
              "      <td>137</td>\n",
              "      <td>0</td>\n",
              "      <td>243.4</td>\n",
              "      <td>114</td>\n",
              "      <td>41.38</td>\n",
              "      <td>121.2</td>\n",
              "      <td>110</td>\n",
              "      <td>10.30</td>\n",
              "      <td>162.6</td>\n",
              "      <td>104</td>\n",
              "      <td>7.32</td>\n",
              "      <td>12.2</td>\n",
              "      <td>5</td>\n",
              "      <td>3.29</td>\n",
              "      <td>0</td>\n",
              "      <td>0.0</td>\n",
              "      <td>0.0</td>\n",
              "      <td>0.0</td>\n",
              "    </tr>\n",
              "    <tr>\n",
              "      <th>3</th>\n",
              "      <td>OH</td>\n",
              "      <td>84</td>\n",
              "      <td>0</td>\n",
              "      <td>299.4</td>\n",
              "      <td>71</td>\n",
              "      <td>50.90</td>\n",
              "      <td>61.9</td>\n",
              "      <td>88</td>\n",
              "      <td>5.26</td>\n",
              "      <td>196.9</td>\n",
              "      <td>89</td>\n",
              "      <td>8.86</td>\n",
              "      <td>6.6</td>\n",
              "      <td>7</td>\n",
              "      <td>1.78</td>\n",
              "      <td>2</td>\n",
              "      <td>0.0</td>\n",
              "      <td>1.0</td>\n",
              "      <td>0.0</td>\n",
              "    </tr>\n",
              "    <tr>\n",
              "      <th>4</th>\n",
              "      <td>OK</td>\n",
              "      <td>75</td>\n",
              "      <td>0</td>\n",
              "      <td>166.7</td>\n",
              "      <td>113</td>\n",
              "      <td>28.34</td>\n",
              "      <td>148.3</td>\n",
              "      <td>122</td>\n",
              "      <td>12.61</td>\n",
              "      <td>186.9</td>\n",
              "      <td>121</td>\n",
              "      <td>8.41</td>\n",
              "      <td>10.1</td>\n",
              "      <td>3</td>\n",
              "      <td>2.73</td>\n",
              "      <td>3</td>\n",
              "      <td>0.0</td>\n",
              "      <td>1.0</td>\n",
              "      <td>0.0</td>\n",
              "    </tr>\n",
              "  </tbody>\n",
              "</table>\n",
              "</div>"
            ],
            "text/plain": [
              "   st   acclen  nummailmes   tdmin  ...   ncsc  churn  intplan  voice\n",
              "0  KS      128          25   265.1  ...      1    0.0      0.0    1.0\n",
              "1  OH      107          26   161.6  ...      1    0.0      0.0    1.0\n",
              "2  NJ      137           0   243.4  ...      0    0.0      0.0    0.0\n",
              "3  OH       84           0   299.4  ...      2    0.0      1.0    0.0\n",
              "4  OK       75           0   166.7  ...      3    0.0      1.0    0.0\n",
              "\n",
              "[5 rows x 19 columns]"
            ]
          },
          "metadata": {
            "tags": []
          },
          "execution_count": 8
        }
      ]
    },
    {
      "cell_type": "markdown",
      "metadata": {
        "id": "qj2E0kNy11vh",
        "colab_type": "text"
      },
      "source": [
        "#Feature Engineering"
      ]
    },
    {
      "cell_type": "markdown",
      "metadata": {
        "id": "kdNl5pI46Q9E",
        "colab_type": "text"
      },
      "source": [
        "**Cluste different states into high/medium/low churn rate areas**"
      ]
    },
    {
      "cell_type": "code",
      "metadata": {
        "id": "ez3h_z_LO5V1",
        "colab_type": "code",
        "outputId": "60509939-49c6-4e7f-b3f0-dbe03f5f4d3c",
        "colab": {
          "base_uri": "https://localhost:8080/",
          "height": 524
        }
      },
      "source": [
        "plt.figure(figsize=(12, 8))\n",
        "st = churn.groupby('st')['churn'].mean().sort_values()\n",
        "st.plot(kind='bar')"
      ],
      "execution_count": 0,
      "outputs": [
        {
          "output_type": "execute_result",
          "data": {
            "text/plain": [
              "<matplotlib.axes._subplots.AxesSubplot at 0x7f6699e03748>"
            ]
          },
          "metadata": {
            "tags": []
          },
          "execution_count": 9
        },
        {
          "output_type": "display_data",
          "data": {
            "image/png": "[encoded data removed]",
            "text/plain": [
              "<Figure size 864x576 with 1 Axes>"
            ]
          },
          "metadata": {
            "tags": []
          }
        }
      ]
    },
    {
      "cell_type": "markdown",
      "metadata": {
        "id": "q1Yo6o0v6iaT",
        "colab_type": "text"
      },
      "source": [
        "**Define threshold**"
      ]
    },
    {
      "cell_type": "code",
      "metadata": {
        "id": "eztd5wFU3wM3",
        "colab_type": "code",
        "outputId": "8466a878-791a-47fb-dea0-c3522d326e2c",
        "colab": {
          "base_uri": "https://localhost:8080/",
          "height": 204
        }
      },
      "source": [
        "for i in st[st.values < 0.1].index:\n",
        "  churn.loc[churn['st'] == i, 'area'] = 0\n",
        "\n",
        "for i in st[(st.values < 0.2) & (st.values > 0.1)].index:\n",
        "  churn.loc[churn['st'] == i, 'area'] = 1\n",
        "\n",
        "for i in st[st.values > 0.2].index:\n",
        "  churn.loc[churn['st'] == i, 'area'] = 2\n",
        "  \n",
        "churn = churn.drop('st', axis=1)\n",
        "churn.head()"
      ],
      "execution_count": 0,
      "outputs": [
        {
          "output_type": "execute_result",
          "data": {
            "text/html": [
              "<div>\n",
              "<style scoped>\n",
              "    .dataframe tbody tr th:only-of-type {\n",
              "        vertical-align: middle;\n",
              "    }\n",
              "\n",
              "    .dataframe tbody tr th {\n",
              "        vertical-align: top;\n",
              "    }\n",
              "\n",
              "    .dataframe thead th {\n",
              "        text-align: right;\n",
              "    }\n",
              "</style>\n",
              "<table border=\"1\" class=\"dataframe\">\n",
              "  <thead>\n",
              "    <tr style=\"text-align: right;\">\n",
              "      <th></th>\n",
              "      <th>acclen</th>\n",
              "      <th>nummailmes</th>\n",
              "      <th>tdmin</th>\n",
              "      <th>tdcal</th>\n",
              "      <th>tdchar</th>\n",
              "      <th>temin</th>\n",
              "      <th>tecal</th>\n",
              "      <th>tecahr</th>\n",
              "      <th>tnmin</th>\n",
              "      <th>tn cal</th>\n",
              "      <th>tnchar</th>\n",
              "      <th>timin</th>\n",
              "      <th>tical</th>\n",
              "      <th>tichar</th>\n",
              "      <th>ncsc</th>\n",
              "      <th>churn</th>\n",
              "      <th>intplan</th>\n",
              "      <th>voice</th>\n",
              "      <th>area</th>\n",
              "    </tr>\n",
              "  </thead>\n",
              "  <tbody>\n",
              "    <tr>\n",
              "      <th>0</th>\n",
              "      <td>128</td>\n",
              "      <td>25</td>\n",
              "      <td>265.1</td>\n",
              "      <td>110</td>\n",
              "      <td>45.07</td>\n",
              "      <td>197.4</td>\n",
              "      <td>99</td>\n",
              "      <td>16.78</td>\n",
              "      <td>244.7</td>\n",
              "      <td>91</td>\n",
              "      <td>11.01</td>\n",
              "      <td>10.0</td>\n",
              "      <td>3</td>\n",
              "      <td>2.70</td>\n",
              "      <td>1</td>\n",
              "      <td>0.0</td>\n",
              "      <td>0.0</td>\n",
              "      <td>1.0</td>\n",
              "      <td>1.0</td>\n",
              "    </tr>\n",
              "    <tr>\n",
              "      <th>1</th>\n",
              "      <td>107</td>\n",
              "      <td>26</td>\n",
              "      <td>161.6</td>\n",
              "      <td>123</td>\n",
              "      <td>27.47</td>\n",
              "      <td>195.5</td>\n",
              "      <td>103</td>\n",
              "      <td>16.62</td>\n",
              "      <td>254.4</td>\n",
              "      <td>103</td>\n",
              "      <td>11.45</td>\n",
              "      <td>13.7</td>\n",
              "      <td>3</td>\n",
              "      <td>3.70</td>\n",
              "      <td>1</td>\n",
              "      <td>0.0</td>\n",
              "      <td>0.0</td>\n",
              "      <td>1.0</td>\n",
              "      <td>1.0</td>\n",
              "    </tr>\n",
              "    <tr>\n",
              "      <th>2</th>\n",
              "      <td>137</td>\n",
              "      <td>0</td>\n",
              "      <td>243.4</td>\n",
              "      <td>114</td>\n",
              "      <td>41.38</td>\n",
              "      <td>121.2</td>\n",
              "      <td>110</td>\n",
              "      <td>10.30</td>\n",
              "      <td>162.6</td>\n",
              "      <td>104</td>\n",
              "      <td>7.32</td>\n",
              "      <td>12.2</td>\n",
              "      <td>5</td>\n",
              "      <td>3.29</td>\n",
              "      <td>0</td>\n",
              "      <td>0.0</td>\n",
              "      <td>0.0</td>\n",
              "      <td>0.0</td>\n",
              "      <td>2.0</td>\n",
              "    </tr>\n",
              "    <tr>\n",
              "      <th>3</th>\n",
              "      <td>84</td>\n",
              "      <td>0</td>\n",
              "      <td>299.4</td>\n",
              "      <td>71</td>\n",
              "      <td>50.90</td>\n",
              "      <td>61.9</td>\n",
              "      <td>88</td>\n",
              "      <td>5.26</td>\n",
              "      <td>196.9</td>\n",
              "      <td>89</td>\n",
              "      <td>8.86</td>\n",
              "      <td>6.6</td>\n",
              "      <td>7</td>\n",
              "      <td>1.78</td>\n",
              "      <td>2</td>\n",
              "      <td>0.0</td>\n",
              "      <td>1.0</td>\n",
              "      <td>0.0</td>\n",
              "      <td>1.0</td>\n",
              "    </tr>\n",
              "    <tr>\n",
              "      <th>4</th>\n",
              "      <td>75</td>\n",
              "      <td>0</td>\n",
              "      <td>166.7</td>\n",
              "      <td>113</td>\n",
              "      <td>28.34</td>\n",
              "      <td>148.3</td>\n",
              "      <td>122</td>\n",
              "      <td>12.61</td>\n",
              "      <td>186.9</td>\n",
              "      <td>121</td>\n",
              "      <td>8.41</td>\n",
              "      <td>10.1</td>\n",
              "      <td>3</td>\n",
              "      <td>2.73</td>\n",
              "      <td>3</td>\n",
              "      <td>0.0</td>\n",
              "      <td>1.0</td>\n",
              "      <td>0.0</td>\n",
              "      <td>1.0</td>\n",
              "    </tr>\n",
              "  </tbody>\n",
              "</table>\n",
              "</div>"
            ],
            "text/plain": [
              "    acclen  nummailmes   tdmin   tdcal  ...  churn  intplan  voice  area\n",
              "0      128          25   265.1     110  ...    0.0      0.0    1.0   1.0\n",
              "1      107          26   161.6     123  ...    0.0      0.0    1.0   1.0\n",
              "2      137           0   243.4     114  ...    0.0      0.0    0.0   2.0\n",
              "3       84           0   299.4      71  ...    0.0      1.0    0.0   1.0\n",
              "4       75           0   166.7     113  ...    0.0      1.0    0.0   1.0\n",
              "\n",
              "[5 rows x 19 columns]"
            ]
          },
          "metadata": {
            "tags": []
          },
          "execution_count": 10
        }
      ]
    },
    {
      "cell_type": "markdown",
      "metadata": {
        "id": "lz8UD7WZ6xBT",
        "colab_type": "text"
      },
      "source": [
        "#EDA"
      ]
    },
    {
      "cell_type": "code",
      "metadata": {
        "id": "xlj_3wm26_ok",
        "colab_type": "code",
        "colab": {}
      },
      "source": [
        "churn = churn.dropna()"
      ],
      "execution_count": 0,
      "outputs": []
    },
    {
      "cell_type": "code",
      "metadata": {
        "id": "_F09cFz2Hekb",
        "colab_type": "code",
        "outputId": "3301007f-8722-4747-8a40-3bdf46880624",
        "colab": {
          "base_uri": "https://localhost:8080/",
          "height": 403
        }
      },
      "source": [
        "plt.figure(figsize=(12, 8))\n",
        "sns.factorplot(data=churn, x='intplan',y ='churn', kind='bar')"
      ],
      "execution_count": 0,
      "outputs": [
        {
          "output_type": "execute_result",
          "data": {
            "text/plain": [
              "<seaborn.axisgrid.FacetGrid at 0x7f6695a07eb8>"
            ]
          },
          "metadata": {
            "tags": []
          },
          "execution_count": 32
        },
        {
          "output_type": "display_data",
          "data": {
            "text/plain": [
              "<Figure size 864x576 with 0 Axes>"
            ]
          },
          "metadata": {
            "tags": []
          }
        },
        {
          "output_type": "display_data",
          "data": {
            "image/png": "[encoded data removed]",
            "text/plain": [
              "<Figure size 360x360 with 1 Axes>"
            ]
          },
          "metadata": {
            "tags": []
          }
        }
      ]
    },
    {
      "cell_type": "markdown",
      "metadata": {
        "id": "BjCbwkH1Iyw7",
        "colab_type": "text"
      },
      "source": [
        "**For most of the customers, if they have international plan, they are more likely to churn.**"
      ]
    },
    {
      "cell_type": "code",
      "metadata": {
        "id": "XKDV4eddIIBD",
        "colab_type": "code",
        "outputId": "5982ba5f-e233-4767-c477-e272cc466df9",
        "colab": {
          "base_uri": "https://localhost:8080/",
          "height": 403
        }
      },
      "source": [
        "plt.figure(figsize=(12, 8))\n",
        "sns.factorplot(data=churn, x='voice',y ='churn', kind='bar')"
      ],
      "execution_count": 0,
      "outputs": [
        {
          "output_type": "execute_result",
          "data": {
            "text/plain": [
              "<seaborn.axisgrid.FacetGrid at 0x7f66959baeb8>"
            ]
          },
          "metadata": {
            "tags": []
          },
          "execution_count": 33
        },
        {
          "output_type": "display_data",
          "data": {
            "text/plain": [
              "<Figure size 864x576 with 0 Axes>"
            ]
          },
          "metadata": {
            "tags": []
          }
        },
        {
          "output_type": "display_data",
          "data": {
            "image/png": "[encoded data removed]",
            "text/plain": [
              "<Figure size 360x360 with 1 Axes>"
            ]
          },
          "metadata": {
            "tags": []
          }
        }
      ]
    },
    {
      "cell_type": "markdown",
      "metadata": {
        "id": "fqxJbetyJHrs",
        "colab_type": "text"
      },
      "source": [
        "**For most of the customers, if they don't have voice plan, they are more likely to churn.**"
      ]
    },
    {
      "cell_type": "code",
      "metadata": {
        "id": "B3P_jmHzrFnA",
        "colab_type": "code",
        "outputId": "436befb3-2044-4b63-f097-a9ed0f7119ca",
        "colab": {
          "base_uri": "https://localhost:8080/",
          "height": 403
        }
      },
      "source": [
        "plt.figure(figsize=(12, 8))\n",
        "sns.factorplot(data=churn, x='area',y ='churn', kind='bar')"
      ],
      "execution_count": 0,
      "outputs": [
        {
          "output_type": "execute_result",
          "data": {
            "text/plain": [
              "<seaborn.axisgrid.FacetGrid at 0x7f66959b5d68>"
            ]
          },
          "metadata": {
            "tags": []
          },
          "execution_count": 34
        },
        {
          "output_type": "display_data",
          "data": {
            "text/plain": [
              "<Figure size 864x576 with 0 Axes>"
            ]
          },
          "metadata": {
            "tags": []
          }
        },
        {
          "output_type": "display_data",
          "data": {
            "image/png": "[encoded data removed]",
            "text/plain": [
              "<Figure size 360x360 with 1 Axes>"
            ]
          },
          "metadata": {
            "tags": []
          }
        }
      ]
    },
    {
      "cell_type": "code",
      "metadata": {
        "id": "xRNDN6u6IlE6",
        "colab_type": "code",
        "outputId": "85c1299c-443a-499a-98b8-87c42d5e5502",
        "colab": {
          "base_uri": "https://localhost:8080/",
          "height": 34
        }
      },
      "source": [
        "print(st[st.values > 0.2].index.values)"
      ],
      "execution_count": 0,
      "outputs": [
        {
          "output_type": "stream",
          "text": [
            "['MT' 'ME' 'WA' 'NV' 'MS' 'MI' 'SC' 'MD' 'TX' 'NJ' 'CA']\n"
          ],
          "name": "stdout"
        }
      ]
    },
    {
      "cell_type": "markdown",
      "metadata": {
        "id": "PwjCJu4YJgjJ",
        "colab_type": "text"
      },
      "source": [
        "**For customers live in 'MT' 'ME' 'WA' 'NV' 'MS' 'MI' 'SC' 'MD' 'TX' 'NJ' 'CA', they are more likely to churn**"
      ]
    },
    {
      "cell_type": "code",
      "metadata": {
        "id": "Smi-8_H6KRa_",
        "colab_type": "code",
        "colab": {}
      },
      "source": [
        "churn1 = churn[churn['churn']==1]\n",
        "churn0 = churn[churn['churn']==0]"
      ],
      "execution_count": 0,
      "outputs": []
    },
    {
      "cell_type": "code",
      "metadata": {
        "id": "ZlllJammKgh-",
        "colab_type": "code",
        "outputId": "5ff6b225-21d0-465a-f915-539b56058d0c",
        "colab": {
          "base_uri": "https://localhost:8080/",
          "height": 517
        }
      },
      "source": [
        "plt.subplots(figsize =(12, 8)) \n",
        "sns.distplot(churn1[' tdmin'], color='skyblue', label='Churn', hist=False)\n",
        "sns.distplot(churn0[' tdmin'], color='red', label='Not Churn', hist=False)\n",
        "plt.legend(fontsize='xx-large')"
      ],
      "execution_count": 0,
      "outputs": [
        {
          "output_type": "execute_result",
          "data": {
            "text/plain": [
              "<matplotlib.legend.Legend at 0x7f669563f5f8>"
            ]
          },
          "metadata": {
            "tags": []
          },
          "execution_count": 44
        },
        {
          "output_type": "display_data",
          "data": {
            "image/png": "[encoded data removed]",
            "text/plain": [
              "<Figure size 864x576 with 1 Axes>"
            ]
          },
          "metadata": {
            "tags": []
          }
        }
      ]
    },
    {
      "cell_type": "markdown",
      "metadata": {
        "id": "laXWYPkpL6iC",
        "colab_type": "text"
      },
      "source": [
        "**Customers with total day minutes around 150 and 275 are more likely to churn**"
      ]
    },
    {
      "cell_type": "code",
      "metadata": {
        "id": "9VDQ1ffXLPEf",
        "colab_type": "code",
        "outputId": "bc8b94e2-5008-4714-f332-efea4d152cde",
        "colab": {
          "base_uri": "https://localhost:8080/",
          "height": 517
        }
      },
      "source": [
        "plt.subplots(figsize =(12, 8)) \n",
        "sns.distplot(churn1[' temin'], color='skyblue', label='Churn', hist=False)\n",
        "sns.distplot(churn0[' temin'], color='red', label='Not Churn', hist=False)\n",
        "plt.legend(fontsize='xx-large')"
      ],
      "execution_count": 0,
      "outputs": [
        {
          "output_type": "execute_result",
          "data": {
            "text/plain": [
              "<matplotlib.legend.Legend at 0x7f66953f87b8>"
            ]
          },
          "metadata": {
            "tags": []
          },
          "execution_count": 50
        },
        {
          "output_type": "display_data",
          "data": {
            "image/png": "[encoded data removed]",
            "text/plain": [
              "<Figure size 864x576 with 1 Axes>"
            ]
          },
          "metadata": {
            "tags": []
          }
        }
      ]
    },
    {
      "cell_type": "markdown",
      "metadata": {
        "id": "k22iX-n8MooU",
        "colab_type": "text"
      },
      "source": [
        "**Not much difference between these two group**"
      ]
    },
    {
      "cell_type": "code",
      "metadata": {
        "id": "DHBI1vWz6wWh",
        "colab_type": "code",
        "outputId": "b7c28f8c-7f20-46c5-b834-8743d1b8471f",
        "colab": {
          "base_uri": "https://localhost:8080/",
          "height": 559
        }
      },
      "source": [
        "plt.figure(figsize=(12, 8))\n",
        "churn_corr = churn.corr()\n",
        "sns.heatmap(churn_corr, cmap=\"Blues\")"
      ],
      "execution_count": 0,
      "outputs": [
        {
          "output_type": "execute_result",
          "data": {
            "text/plain": [
              "<matplotlib.axes._subplots.AxesSubplot at 0x7f6699e111d0>"
            ]
          },
          "metadata": {
            "tags": []
          },
          "execution_count": 12
        },
        {
          "output_type": "display_data",
          "data": {
            "image/png": "[encoded data removed]",
            "text/plain": [
              "<Figure size 864x576 with 2 Axes>"
            ]
          },
          "metadata": {
            "tags": []
          }
        }
      ]
    },
    {
      "cell_type": "markdown",
      "metadata": {
        "id": "RzZYSgwQf4IO",
        "colab_type": "text"
      },
      "source": [
        "# Modeling"
      ]
    },
    {
      "cell_type": "markdown",
      "metadata": {
        "id": "qYskpsuwgr1e",
        "colab_type": "text"
      },
      "source": [
        "### **Train test data split**"
      ]
    },
    {
      "cell_type": "code",
      "metadata": {
        "id": "6_2sYIvt91Yh",
        "colab_type": "code",
        "colab": {}
      },
      "source": [
        "predictors = churn.drop('churn', axis=1)\n",
        "target = churn['churn']"
      ],
      "execution_count": 0,
      "outputs": []
    },
    {
      "cell_type": "code",
      "metadata": {
        "id": "qpBj7KoMf3vC",
        "colab_type": "code",
        "colab": {}
      },
      "source": [
        "X_train, X_test, y_train, y_test = train_test_split(predictors, target, test_size=0.2)"
      ],
      "execution_count": 0,
      "outputs": []
    },
    {
      "cell_type": "markdown",
      "metadata": {
        "id": "fO3CZ2h014vC",
        "colab_type": "text"
      },
      "source": [
        "###**Logistic Regression**"
      ]
    },
    {
      "cell_type": "markdown",
      "metadata": {
        "id": "HmRnnii2rTvk",
        "colab_type": "text"
      },
      "source": [
        "**Logistic Regression**"
      ]
    },
    {
      "cell_type": "code",
      "metadata": {
        "id": "CHAngSNdqe-f",
        "colab_type": "code",
        "outputId": "3830874d-763d-47a6-ad9a-d6c8fb5a41ac",
        "colab": {
          "base_uri": "https://localhost:8080/",
          "height": 34
        }
      },
      "source": [
        "from sklearn.linear_model import LogisticRegression\n",
        "logit = LogisticRegression()\n",
        "logit.fit(X_train, y_train)\n",
        "logit_pred = logit.predict(X_test)\n",
        "# evaluate\t\n",
        "logit.score(X_test, y_test)"
      ],
      "execution_count": 0,
      "outputs": [
        {
          "output_type": "execute_result",
          "data": {
            "text/plain": [
              "0.8796875"
            ]
          },
          "metadata": {
            "tags": []
          },
          "execution_count": 18
        }
      ]
    },
    {
      "cell_type": "markdown",
      "metadata": {
        "id": "3pOM9Sl9scwK",
        "colab_type": "text"
      },
      "source": [
        "**GridSearch for Logistic Regression**"
      ]
    },
    {
      "cell_type": "code",
      "metadata": {
        "id": "jXAUEJeZsxWL",
        "colab_type": "code",
        "outputId": "a610a5f7-e9dd-410f-f61c-7e25f2a45a48",
        "colab": {
          "base_uri": "https://localhost:8080/",
          "height": 204
        }
      },
      "source": [
        "from sklearn.model_selection import GridSearchCV\n",
        "\n",
        "# Create the hyperparameter grid\n",
        "param_grid = {'C': np.logspace(-5, 8, 15), 'penalty': ['l2']}\n",
        "\n",
        "# Instantiate the GridSearchCV object: logreg_cv\n",
        "logit_cv = GridSearchCV(logit, param_grid, cv=5)\n",
        "\n",
        "# Fit it to the training data\n",
        "logit_cv.fit(X_train, y_train)"
      ],
      "execution_count": 0,
      "outputs": [
        {
          "output_type": "execute_result",
          "data": {
            "text/plain": [
              "GridSearchCV(cv=5, error_score='raise-deprecating',\n",
              "       estimator=LogisticRegression(C=1.0, class_weight=None, dual=False, fit_intercept=True,\n",
              "          intercept_scaling=1, max_iter=100, multi_class='warn',\n",
              "          n_jobs=None, penalty='l2', random_state=None, solver='warn',\n",
              "          tol=0.0001, verbose=0, warm_start=False),\n",
              "       fit_params=None, iid='warn', n_jobs=None,\n",
              "       param_grid={'C': array([1.00000e-05, 8.48343e-05, 7.19686e-04, 6.10540e-03, 5.17947e-02,\n",
              "       4.39397e-01, 3.72759e+00, 3.16228e+01, 2.68270e+02, 2.27585e+03,\n",
              "       1.93070e+04, 1.63789e+05, 1.38950e+06, 1.17877e+07, 1.00000e+08]), 'penalty': ['l2']},\n",
              "       pre_dispatch='2*n_jobs', refit=True, return_train_score='warn',\n",
              "       scoring=None, verbose=0)"
            ]
          },
          "metadata": {
            "tags": []
          },
          "execution_count": 19
        }
      ]
    },
    {
      "cell_type": "code",
      "metadata": {
        "id": "1mq3jtSWx7ak",
        "colab_type": "code",
        "outputId": "3d0a3c69-62e1-414e-dc05-a65a700098b8",
        "colab": {
          "base_uri": "https://localhost:8080/",
          "height": 51
        }
      },
      "source": [
        "# Print the optimal parameters and best score\n",
        "print(\"Tuned Logistic Regression Parameter: {}\".format(logit_cv.best_params_))\n",
        "print(\"Tuned Logistic Regression Accuracy: {}\".format(logit_cv.best_score_))\n"
      ],
      "execution_count": 0,
      "outputs": [
        {
          "output_type": "stream",
          "text": [
            "Tuned Logistic Regression Parameter: {'C': 1389495.494373136, 'penalty': 'l2'}\n",
            "Tuned Logistic Regression Accuracy: 0.8647380766223612\n"
          ],
          "name": "stdout"
        }
      ]
    },
    {
      "cell_type": "markdown",
      "metadata": {
        "id": "XUKfGRMMyPux",
        "colab_type": "text"
      },
      "source": [
        "**Evaluation for Logistic Regression**"
      ]
    },
    {
      "cell_type": "code",
      "metadata": {
        "id": "buF3HqfYb9TX",
        "colab_type": "code",
        "outputId": "6ffc881c-b623-4fe8-96d4-35a9a774f9c1",
        "colab": {
          "base_uri": "https://localhost:8080/",
          "height": 679
        }
      },
      "source": [
        "from sklearn.metrics import confusion_matrix\n",
        "from sklearn.utils.multiclass import unique_labels\n",
        "\n",
        "y_pred = logit_cv.fit(X_train, y_train).predict(X_test)\n",
        "\n",
        "\n",
        "def plot_confusion_matrix(y_test, y_pred, classes,\n",
        "                          normalize=False,\n",
        "                          title=None,\n",
        "                          cmap=plt.cm.Blues):\n",
        "    \"\"\"\n",
        "    This function prints and plots the confusion matrix.\n",
        "    Normalization can be applied by setting `normalize=True`.\n",
        "    \"\"\"\n",
        "    if not title:\n",
        "        if normalize:\n",
        "            title = 'Normalized confusion matrix'\n",
        "        else:\n",
        "            title = 'Confusion matrix, without normalization'\n",
        "\n",
        "    # Compute confusion matrix\n",
        "    cm = confusion_matrix(y_test, y_pred)\n",
        "    # Only use the labels that appear in the data\n",
        "    classes = unique_labels(y_test, y_pred)\n",
        "    if normalize:\n",
        "        cm = cm.astype('float') / cm.sum(axis=1)[:, np.newaxis]\n",
        "        print(\"Normalized confusion matrix\")\n",
        "    else:\n",
        "        print('Confusion matrix, without normalization')\n",
        "\n",
        "    print(cm)\n",
        "\n",
        "    fig, ax = plt.subplots()\n",
        "    im = ax.imshow(cm, interpolation='nearest', cmap=cmap)\n",
        "    ax.figure.colorbar(im, ax=ax)\n",
        "    # We want to show all ticks...\n",
        "    ax.set(xticks=np.arange(cm.shape[1]),\n",
        "           yticks=np.arange(cm.shape[0]),\n",
        "           # ... and label them with the respective list entries\n",
        "           xticklabels=classes, yticklabels=classes,\n",
        "           title=title,\n",
        "           ylabel='True label',\n",
        "           xlabel='Predicted label')\n",
        "\n",
        "    # Rotate the tick labels and set their alignment.\n",
        "    plt.setp(ax.get_xticklabels(), rotation=45, ha=\"right\",\n",
        "             rotation_mode=\"anchor\")\n",
        "\n",
        "    # Loop over data dimensions and create text annotations.\n",
        "    fmt = '.2f' if normalize else 'd'\n",
        "    thresh = cm.max() / 2.\n",
        "    for i in range(cm.shape[0]):\n",
        "        for j in range(cm.shape[1]):\n",
        "            ax.text(j, i, format(cm[i, j], fmt),\n",
        "                    ha=\"center\", va=\"center\",\n",
        "                    color=\"white\" if cm[i, j] > thresh else \"black\")\n",
        "    fig.tight_layout()\n",
        "    return ax\n",
        "\n",
        "\n",
        "np.set_printoptions(precision=2)\n",
        "\n",
        "# Plot non-normalized confusion matrix\n",
        "plot_confusion_matrix(y_test, y_pred, classes=classes,\n",
        "                      title='Confusion matrix, without normalization')\n",
        "\n",
        "# Plot normalized confusion matrix\n",
        "plot_confusion_matrix(y_test, y_pred, classes, normalize=True,\n",
        "                      title='Normalized confusion matrix')\n",
        "\n",
        "plt.show()"
      ],
      "execution_count": 0,
      "outputs": [
        {
          "output_type": "stream",
          "text": [
            "Confusion matrix, without normalization\n",
            "[[536  17]\n",
            " [ 61  26]]\n",
            "Normalized confusion matrix\n",
            "[[0.97 0.03]\n",
            " [0.7  0.3 ]]\n"
          ],
          "name": "stdout"
        },
        {
          "output_type": "display_data",
          "data": {
            "image/png": "[encoded data removed]",
            "text/plain": [
              "<Figure size 432x288 with 2 Axes>"
            ]
          },
          "metadata": {
            "tags": []
          }
        },
        {
          "output_type": "display_data",
          "data": {
            "image/png": "[encoded data removed]",
            "text/plain": [
              "<Figure size 432x288 with 2 Axes>"
            ]
          },
          "metadata": {
            "tags": []
          }
        }
      ]
    },
    {
      "cell_type": "code",
      "metadata": {
        "id": "TF_c3E1kyVd7",
        "colab_type": "code",
        "outputId": "616ad3ca-20f4-4be7-e81c-e57d4b203c61",
        "colab": {
          "base_uri": "https://localhost:8080/",
          "height": 204
        }
      },
      "source": [
        "from sklearn.metrics import classification_report \n",
        "from sklearn.metrics import confusion_matrix\n",
        "y_pred = logit_cv.predict(X_test)\n",
        "\n",
        "print('Classification Report:\\n')\n",
        "print(classification_report(y_test, y_pred))"
      ],
      "execution_count": 0,
      "outputs": [
        {
          "output_type": "stream",
          "text": [
            "Classification Report:\n",
            "\n",
            "              precision    recall  f1-score   support\n",
            "\n",
            "         0.0       0.90      0.97      0.93       553\n",
            "         1.0       0.60      0.30      0.40        87\n",
            "\n",
            "   micro avg       0.88      0.88      0.88       640\n",
            "   macro avg       0.75      0.63      0.67       640\n",
            "weighted avg       0.86      0.88      0.86       640\n",
            "\n"
          ],
          "name": "stdout"
        }
      ]
    },
    {
      "cell_type": "markdown",
      "metadata": {
        "id": "IexsVgGe0IZ3",
        "colab_type": "text"
      },
      "source": [
        "**The confusion matrix of logistic regression model shows that the false negtive is 65, which is the left buttom area on the graph. It means that we tell people they don't churn but they actually churn, which will cause a problem that company will ignored these group of customers and don't take any actions on them to prevent them from churning. In this case, company will lost profit becasue of the high false negtive. Therefore, we want to minimize the ratio of false negative.**"
      ]
    },
    {
      "cell_type": "code",
      "metadata": {
        "id": "di2GeDXQ0HvC",
        "colab_type": "code",
        "outputId": "5ea60133-9427-43ac-bee3-3df288022bf5",
        "colab": {
          "base_uri": "https://localhost:8080/",
          "height": 376
        }
      },
      "source": [
        "from yellowbrick.classifier import ROCAUC\n",
        "#ROC AUC\n",
        "# Instantiate the visualizer with the classification model\n",
        "visualizer = ROCAUC(logit_cv, classes=classes)\n",
        "visualizer.fit(X_train, y_train)  # Fit the training data to the visualizer\n",
        "visualizer.score(X_test, y_test)  # Evaluate the model on the test data\n",
        "g = visualizer.poof()             # Draw/show/poof the data\n"
      ],
      "execution_count": 0,
      "outputs": [
        {
          "output_type": "display_data",
          "data": {
            "image/png": "[encoded data removed]",
            "text/plain": [
              "<Figure size 576x396 with 1 Axes>"
            ]
          },
          "metadata": {
            "tags": []
          }
        }
      ]
    },
    {
      "cell_type": "markdown",
      "metadata": {
        "id": "U4EFAwCG2CFG",
        "colab_type": "text"
      },
      "source": [
        "###**SVM**"
      ]
    },
    {
      "cell_type": "markdown",
      "metadata": {
        "id": "jMIWCF6M5en5",
        "colab_type": "text"
      },
      "source": [
        "**Support Vector Machine**"
      ]
    },
    {
      "cell_type": "code",
      "metadata": {
        "id": "PahmynIz212y",
        "colab_type": "code",
        "outputId": "60179d47-4959-44ec-ac07-64beb704c062",
        "colab": {
          "base_uri": "https://localhost:8080/",
          "height": 34
        }
      },
      "source": [
        "from sklearn.svm import SVC\n",
        "svm = SVC()\n",
        "svm.fit(X_train, y_train)\n",
        "svm_pred = logit.predict(X_test)\n",
        "# evaluate\t\n",
        "svm.score(X_test, y_test)"
      ],
      "execution_count": 0,
      "outputs": [
        {
          "output_type": "execute_result",
          "data": {
            "text/plain": [
              "0.8640625"
            ]
          },
          "metadata": {
            "tags": []
          },
          "execution_count": 37
        }
      ]
    },
    {
      "cell_type": "markdown",
      "metadata": {
        "id": "PuXahof75nsW",
        "colab_type": "text"
      },
      "source": [
        "**GridSearch for SVM**"
      ]
    },
    {
      "cell_type": "code",
      "metadata": {
        "id": "bLzG-lSz5c1D",
        "colab_type": "code",
        "outputId": "94977ef8-a7d0-420e-baf5-3bc2f8c545b0",
        "colab": {
          "base_uri": "https://localhost:8080/",
          "height": 170
        }
      },
      "source": [
        "# Create the hyperparameter grid\n",
        "param_grid = {'C':[1, 10, 100], 'gamma':[0.1, 0.01]}\n",
        "\n",
        "# Instantiate the GridSearchCV object: logreg_cv\n",
        "svm_cv = GridSearchCV(svm, param_grid, cv=5)\n",
        "\n",
        "# Fit it to the training data\n",
        "svm_cv.fit(X_train, y_train)"
      ],
      "execution_count": 0,
      "outputs": [
        {
          "output_type": "execute_result",
          "data": {
            "text/plain": [
              "GridSearchCV(cv=5, error_score='raise-deprecating',\n",
              "       estimator=SVC(C=1.0, cache_size=200, class_weight=None, coef0=0.0,\n",
              "  decision_function_shape='ovr', degree=3, gamma='auto_deprecated',\n",
              "  kernel='rbf', max_iter=-1, probability=False, random_state=None,\n",
              "  shrinking=True, tol=0.001, verbose=False),\n",
              "       fit_params=None, iid='warn', n_jobs=None,\n",
              "       param_grid={'C': [1, 10, 100], 'gamma': [0.1, 0.01]},\n",
              "       pre_dispatch='2*n_jobs', refit=True, return_train_score='warn',\n",
              "       scoring=None, verbose=0)"
            ]
          },
          "metadata": {
            "tags": []
          },
          "execution_count": 38
        }
      ]
    },
    {
      "cell_type": "code",
      "metadata": {
        "id": "3EMrx4l16bqI",
        "colab_type": "code",
        "outputId": "0b903515-5264-4f9d-86a5-34bbbe8b596e",
        "colab": {
          "base_uri": "https://localhost:8080/",
          "height": 51
        }
      },
      "source": [
        "# Print the optimal parameters and best score\n",
        "print(\"Tuned SVM Parameter: {}\".format(svm_cv.best_params_))\n",
        "print(\"Tuned SVM Accuracy: {}\".format(svm_cv.best_score_))"
      ],
      "execution_count": 0,
      "outputs": [
        {
          "output_type": "stream",
          "text": [
            "Tuned SVM Parameter: {'C': 1, 'gamma': 0.1}\n",
            "Tuned SVM Accuracy: 0.8526192337763878\n"
          ],
          "name": "stdout"
        }
      ]
    },
    {
      "cell_type": "markdown",
      "metadata": {
        "id": "AsLbozUT6vWY",
        "colab_type": "text"
      },
      "source": [
        "**Evaluation for SVM**"
      ]
    },
    {
      "cell_type": "code",
      "metadata": {
        "id": "br0ny7JfiJ0u",
        "colab_type": "code",
        "outputId": "1f648cb0-9182-494c-84d0-769209be83ac",
        "colab": {
          "base_uri": "https://localhost:8080/",
          "height": 887
        }
      },
      "source": [
        "y_pred = svm_cv.fit(X_train, y_train).predict(X_test)\n",
        "\n",
        "\n",
        "def plot_confusion_matrix(y_test, y_pred, classes,\n",
        "                          normalize=False,\n",
        "                          title=None,\n",
        "                          cmap=plt.cm.Blues):\n",
        "    \"\"\"\n",
        "    This function prints and plots the confusion matrix.\n",
        "    Normalization can be applied by setting `normalize=True`.\n",
        "    \"\"\"\n",
        "    if not title:\n",
        "        if normalize:\n",
        "            title = 'Normalized confusion matrix'\n",
        "        else:\n",
        "            title = 'Confusion matrix, without normalization'\n",
        "\n",
        "    # Compute confusion matrix\n",
        "    cm = confusion_matrix(y_test, y_pred)\n",
        "    # Only use the labels that appear in the data\n",
        "    classes = unique_labels(y_test, y_pred)\n",
        "    if normalize:\n",
        "        cm = cm.astype('float') / cm.sum(axis=1)[:, np.newaxis]\n",
        "        print(\"Normalized confusion matrix\")\n",
        "    else:\n",
        "        print('Confusion matrix, without normalization')\n",
        "\n",
        "    print(cm)\n",
        "\n",
        "    fig, ax = plt.subplots()\n",
        "    im = ax.imshow(cm, interpolation='nearest', cmap=cmap)\n",
        "    ax.figure.colorbar(im, ax=ax)\n",
        "    # We want to show all ticks...\n",
        "    ax.set(xticks=np.arange(cm.shape[1]),\n",
        "           yticks=np.arange(cm.shape[0]),\n",
        "           # ... and label them with the respective list entries\n",
        "           xticklabels=classes, yticklabels=classes,\n",
        "           title=title,\n",
        "           ylabel='True label',\n",
        "           xlabel='Predicted label')\n",
        "\n",
        "    # Rotate the tick labels and set their alignment.\n",
        "    plt.setp(ax.get_xticklabels(), rotation=45, ha=\"right\",\n",
        "             rotation_mode=\"anchor\")\n",
        "\n",
        "    # Loop over data dimensions and create text annotations.\n",
        "    fmt = '.2f' if normalize else 'd'\n",
        "    thresh = cm.max() / 2.\n",
        "    for i in range(cm.shape[0]):\n",
        "        for j in range(cm.shape[1]):\n",
        "            ax.text(j, i, format(cm[i, j], fmt),\n",
        "                    ha=\"center\", va=\"center\",\n",
        "                    color=\"white\" if cm[i, j] > thresh else \"black\")\n",
        "    fig.tight_layout()\n",
        "    return ax\n",
        "\n",
        "\n",
        "np.set_printoptions(precision=2)\n",
        "\n",
        "# Plot non-normalized confusion matrix\n",
        "plot_confusion_matrix(y_test, y_pred, classes=classes,\n",
        "                      title='Confusion matrix, without normalization')\n",
        "\n",
        "# Plot normalized confusion matrix\n",
        "plot_confusion_matrix(y_test, y_pred, classes, normalize=True,\n",
        "                      title='Normalized confusion matrix')\n",
        "\n",
        "plt.show()"
      ],
      "execution_count": 0,
      "outputs": [
        {
          "output_type": "stream",
          "text": [
            "Confusion matrix, without normalization\n",
            "[[553   0]\n",
            " [ 87   0]]\n",
            "Normalized confusion matrix\n",
            "[[1. 0.]\n",
            " [1. 0.]]\n"
          ],
          "name": "stdout"
        },
        {
          "output_type": "display_data",
          "data": {
            "image/png": "[encoded data removed]",
            "text/plain": [
              "<Figure size 576x396 with 2 Axes>"
            ]
          },
          "metadata": {
            "tags": []
          }
        },
        {
          "output_type": "display_data",
          "data": {
            "image/png": "[encoded data removed]",
            "text/plain": [
              "<Figure size 576x396 with 2 Axes>"
            ]
          },
          "metadata": {
            "tags": []
          }
        }
      ]
    },
    {
      "cell_type": "code",
      "metadata": {
        "id": "erqTDbZz6u9X",
        "colab_type": "code",
        "outputId": "3f43b763-8a4d-4a51-86b2-2430de471b5e",
        "colab": {
          "base_uri": "https://localhost:8080/",
          "height": 204
        }
      },
      "source": [
        "y_pred = svm_cv.predict(X_test)\n",
        "\n",
        "print('Classification Report:\\n')\n",
        "print(classification_report(y_test, y_pred))"
      ],
      "execution_count": 0,
      "outputs": [
        {
          "output_type": "stream",
          "text": [
            "Classification Report:\n",
            "\n",
            "              precision    recall  f1-score   support\n",
            "\n",
            "         0.0       0.86      1.00      0.93       553\n",
            "         1.0       0.00      0.00      0.00        87\n",
            "\n",
            "   micro avg       0.86      0.86      0.86       640\n",
            "   macro avg       0.43      0.50      0.46       640\n",
            "weighted avg       0.75      0.86      0.80       640\n",
            "\n"
          ],
          "name": "stdout"
        }
      ]
    },
    {
      "cell_type": "markdown",
      "metadata": {
        "id": "np8c-jth38QW",
        "colab_type": "text"
      },
      "source": [
        "**Same false negative issue with the SVM model. With a high false negative, it means company will lose a part of profit from this.**"
      ]
    },
    {
      "cell_type": "code",
      "metadata": {
        "id": "zZju6nzq63GQ",
        "colab_type": "code",
        "outputId": "d1723a41-5cef-4458-abbd-4d6481a1853c",
        "colab": {
          "base_uri": "https://localhost:8080/",
          "height": 376
        }
      },
      "source": [
        "#ROC AUC\n",
        "# Instantiate the visualizer with the classification model\n",
        "visualizer = ROCAUC(svm_cv, classes=classes, micro=False, macro=False, per_class=False)\n",
        "\n",
        "visualizer.fit(X_train, y_train)  # Fit the training data to the visualizer\n",
        "visualizer.score(X_test, y_test)  # Evaluate the model on the test data\n",
        "g = visualizer.poof()             # Draw/show/poof the data\n"
      ],
      "execution_count": 0,
      "outputs": [
        {
          "output_type": "display_data",
          "data": {
            "image/png": "[encoded data removed]",
            "text/plain": [
              "<Figure size 576x396 with 1 Axes>"
            ]
          },
          "metadata": {
            "tags": []
          }
        }
      ]
    },
    {
      "cell_type": "markdown",
      "metadata": {
        "colab_type": "text",
        "id": "Sid4gwp08FPB"
      },
      "source": [
        "###**Random Forest**"
      ]
    },
    {
      "cell_type": "markdown",
      "metadata": {
        "colab_type": "text",
        "id": "fZymuQoQ8FPE"
      },
      "source": [
        "**Random Forest Classifier**"
      ]
    },
    {
      "cell_type": "code",
      "metadata": {
        "colab_type": "code",
        "outputId": "f297d7a6-cdfc-4eff-a85e-246e27885cbc",
        "id": "3y9kW6q_8FPH",
        "colab": {
          "base_uri": "https://localhost:8080/",
          "height": 34
        }
      },
      "source": [
        "from sklearn.ensemble import RandomForestClassifier\n",
        "rfc = RandomForestClassifier()\n",
        "rfc.fit(X_train, y_train)\n",
        "rfc_pred = logit.predict(X_test)\n",
        "# evaluate\t\n",
        "rfc.score(X_test, y_test)"
      ],
      "execution_count": 0,
      "outputs": [
        {
          "output_type": "execute_result",
          "data": {
            "text/plain": [
              "0.9390625"
            ]
          },
          "metadata": {
            "tags": []
          },
          "execution_count": 47
        }
      ]
    },
    {
      "cell_type": "markdown",
      "metadata": {
        "colab_type": "text",
        "id": "To5vHVWl8FPT"
      },
      "source": [
        "**GridSearch for Random Forest Classifier**"
      ]
    },
    {
      "cell_type": "code",
      "metadata": {
        "colab_type": "code",
        "outputId": "16ddc87a-e81d-4b69-a404-3cf29b18e548",
        "id": "vQMcfUyB8FPZ",
        "colab": {
          "base_uri": "https://localhost:8080/",
          "height": 221
        }
      },
      "source": [
        "# Create the hyperparameter grid\n",
        "param_grid = {'n_estimators': [200, 500],\n",
        "    'max_features': ['auto', 'sqrt'],\n",
        "    'max_depth' : [4,5,6,7],\n",
        "    'criterion' :['gini', 'entropy']}\n",
        "\n",
        "# Instantiate the GridSearchCV object: logreg_cv\n",
        "rfc_cv = GridSearchCV(rfc, param_grid, cv=5)\n",
        "\n",
        "# Fit it to the training data\n",
        "rfc_cv.fit(X_train, y_train)"
      ],
      "execution_count": 0,
      "outputs": [
        {
          "output_type": "execute_result",
          "data": {
            "text/plain": [
              "GridSearchCV(cv=5, error_score='raise-deprecating',\n",
              "       estimator=RandomForestClassifier(bootstrap=True, class_weight=None, criterion='gini',\n",
              "            max_depth=None, max_features='auto', max_leaf_nodes=None,\n",
              "            min_impurity_decrease=0.0, min_impurity_split=None,\n",
              "            min_samples_leaf=1, min_samples_split=2,\n",
              "            min_weight_fraction_leaf=0.0, n_estimators=10, n_jobs=None,\n",
              "            oob_score=False, random_state=None, verbose=0,\n",
              "            warm_start=False),\n",
              "       fit_params=None, iid='warn', n_jobs=None,\n",
              "       param_grid={'n_estimators': [200, 500], 'max_features': ['auto', 'sqrt'], 'max_depth': [4, 5, 6, 7], 'criterion': ['gini', 'entropy']},\n",
              "       pre_dispatch='2*n_jobs', refit=True, return_train_score='warn',\n",
              "       scoring=None, verbose=0)"
            ]
          },
          "metadata": {
            "tags": []
          },
          "execution_count": 48
        }
      ]
    },
    {
      "cell_type": "code",
      "metadata": {
        "colab_type": "code",
        "outputId": "2cc0e1e2-77b7-4e26-e6e0-592b8646286e",
        "id": "Q2W4fj1l8FPh",
        "colab": {
          "base_uri": "https://localhost:8080/",
          "height": 51
        }
      },
      "source": [
        "# Print the optimal parameters and best score\n",
        "print(\"Tuned Random Forest Classifier Parameter: {}\".format(rfc_cv.best_params_))\n",
        "print(\"Tuned Random Forest Classifier Parameter Accuracy: {}\".format(rfc_cv.best_score_))"
      ],
      "execution_count": 0,
      "outputs": [
        {
          "output_type": "stream",
          "text": [
            "Tuned Random Forest Classifier Parameter: {'criterion': 'entropy', 'max_depth': 7, 'max_features': 'auto', 'n_estimators': 200}\n",
            "Tuned Random Forest Classifier Parameter Accuracy: 0.9421422986708365\n"
          ],
          "name": "stdout"
        }
      ]
    },
    {
      "cell_type": "markdown",
      "metadata": {
        "colab_type": "text",
        "id": "WkvO9VW98FPo"
      },
      "source": [
        "**Evaluation for Random Forest**"
      ]
    },
    {
      "cell_type": "code",
      "metadata": {
        "id": "JQgS6SvApf-6",
        "colab_type": "code",
        "outputId": "3e248fbc-a014-4b9f-9399-012bb5af1ee0",
        "colab": {
          "base_uri": "https://localhost:8080/",
          "height": 887
        }
      },
      "source": [
        "y_pred = rfc_cv.fit(X_train, y_train).predict(X_test)\n",
        "\n",
        "\n",
        "def plot_confusion_matrix(y_test, y_pred, classes,\n",
        "                          normalize=False,\n",
        "                          title=None,\n",
        "                          cmap=plt.cm.Blues):\n",
        "    \"\"\"\n",
        "    This function prints and plots the confusion matrix.\n",
        "    Normalization can be applied by setting `normalize=True`.\n",
        "    \"\"\"\n",
        "    if not title:\n",
        "        if normalize:\n",
        "            title = 'Normalized confusion matrix'\n",
        "        else:\n",
        "            title = 'Confusion matrix, without normalization'\n",
        "\n",
        "    # Compute confusion matrix\n",
        "    cm = confusion_matrix(y_test, y_pred)\n",
        "    # Only use the labels that appear in the data\n",
        "    classes = unique_labels(y_test, y_pred)\n",
        "    if normalize:\n",
        "        cm = cm.astype('float') / cm.sum(axis=1)[:, np.newaxis]\n",
        "        print(\"Normalized confusion matrix\")\n",
        "    else:\n",
        "        print('Confusion matrix, without normalization')\n",
        "\n",
        "    print(cm)\n",
        "\n",
        "    fig, ax = plt.subplots()\n",
        "    im = ax.imshow(cm, interpolation='nearest', cmap=cmap)\n",
        "    ax.figure.colorbar(im, ax=ax)\n",
        "    # We want to show all ticks...\n",
        "    ax.set(xticks=np.arange(cm.shape[1]),\n",
        "           yticks=np.arange(cm.shape[0]),\n",
        "           # ... and label them with the respective list entries\n",
        "           xticklabels=classes, yticklabels=classes,\n",
        "           title=title,\n",
        "           ylabel='True label',\n",
        "           xlabel='Predicted label')\n",
        "\n",
        "    # Rotate the tick labels and set their alignment.\n",
        "    plt.setp(ax.get_xticklabels(), rotation=45, ha=\"right\",\n",
        "             rotation_mode=\"anchor\")\n",
        "\n",
        "    # Loop over data dimensions and create text annotations.\n",
        "    fmt = '.2f' if normalize else 'd'\n",
        "    thresh = cm.max() / 2.\n",
        "    for i in range(cm.shape[0]):\n",
        "        for j in range(cm.shape[1]):\n",
        "            ax.text(j, i, format(cm[i, j], fmt),\n",
        "                    ha=\"center\", va=\"center\",\n",
        "                    color=\"white\" if cm[i, j] > thresh else \"black\")\n",
        "    fig.tight_layout()\n",
        "    return ax\n",
        "\n",
        "\n",
        "np.set_printoptions(precision=2)\n",
        "\n",
        "# Plot non-normalized confusion matrix\n",
        "plot_confusion_matrix(y_test, y_pred, classes=classes,\n",
        "                      title='Confusion matrix, without normalization')\n",
        "\n",
        "# Plot normalized confusion matrix\n",
        "plot_confusion_matrix(y_test, y_pred, classes, normalize=True,\n",
        "                      title='Normalized confusion matrix')\n",
        "\n",
        "plt.show()"
      ],
      "execution_count": 0,
      "outputs": [
        {
          "output_type": "stream",
          "text": [
            "Confusion matrix, without normalization\n",
            "[[548   5]\n",
            " [ 33  54]]\n",
            "Normalized confusion matrix\n",
            "[[0.99 0.01]\n",
            " [0.38 0.62]]\n"
          ],
          "name": "stdout"
        },
        {
          "output_type": "display_data",
          "data": {
            "image/png": "[encoded data removed]",
            "text/plain": [
              "<Figure size 576x396 with 2 Axes>"
            ]
          },
          "metadata": {
            "tags": []
          }
        },
        {
          "output_type": "display_data",
          "data": {
            "image/png": "[encoded data removed]",
            "text/plain": [
              "<Figure size 576x396 with 2 Axes>"
            ]
          },
          "metadata": {
            "tags": []
          }
        }
      ]
    },
    {
      "cell_type": "code",
      "metadata": {
        "colab_type": "code",
        "outputId": "aeb2c6e8-1637-4e0d-fe31-4b9502c8ffcd",
        "id": "MzKoPSHz8FPr",
        "colab": {
          "base_uri": "https://localhost:8080/",
          "height": 204
        }
      },
      "source": [
        "y_pred = rfc_cv.predict(X_test)\n",
        "\n",
        "print('Classification Report:\\n')\n",
        "print(classification_report(y_test, y_pred))\n"
      ],
      "execution_count": 0,
      "outputs": [
        {
          "output_type": "stream",
          "text": [
            "Classification Report:\n",
            "\n",
            "              precision    recall  f1-score   support\n",
            "\n",
            "         0.0       0.94      0.99      0.97       553\n",
            "         1.0       0.92      0.62      0.74        87\n",
            "\n",
            "   micro avg       0.94      0.94      0.94       640\n",
            "   macro avg       0.93      0.81      0.85       640\n",
            "weighted avg       0.94      0.94      0.94       640\n",
            "\n"
          ],
          "name": "stdout"
        }
      ]
    },
    {
      "cell_type": "markdown",
      "metadata": {
        "id": "nOdOG8014YhY",
        "colab_type": "text"
      },
      "source": [
        "**Compared to SVM and Logistic model, random forest perform a better result in false negative but it might still be not enough since in this business case we want the false negative as lower as possible, because we don't want to wrongly predict customers will not churn but they actually do. But to lower false negative might leads to an increase of false positive, which means cutomers will not churn are predicted as churning customers. But this is acceptable as long as the extra money we are spending on retain those wrongly predicted churning customers is not too high. Furthermore, spending extra efforts on those customers can somehow make them become more loyal to the company.**"
      ]
    },
    {
      "cell_type": "code",
      "metadata": {
        "colab_type": "code",
        "outputId": "e3d67589-ea9e-477b-e962-48abfd99bb1a",
        "id": "qwC1bqHB8FPx",
        "colab": {
          "base_uri": "https://localhost:8080/",
          "height": 376
        }
      },
      "source": [
        "#ROC AUC\n",
        "# Instantiate the visualizer with the classification model\n",
        "visualizer = ROCAUC(rfc_cv, classes=classes)\n",
        "visualizer.fit(X_train, y_train)  # Fit the training data to the visualizer\n",
        "visualizer.score(X_test, y_test)  # Evaluate the model on the test data\n",
        "g = visualizer.poof()             # Draw/show/poof the data\n"
      ],
      "execution_count": 0,
      "outputs": [
        {
          "output_type": "display_data",
          "data": {
            "image/png": "[encoded data removed]",
            "text/plain": [
              "<Figure size 576x396 with 1 Axes>"
            ]
          },
          "metadata": {
            "tags": []
          }
        }
      ]
    },
    {
      "cell_type": "markdown",
      "metadata": {
        "id": "cxkkfBeFv7bj",
        "colab_type": "text"
      },
      "source": [
        "##**Model Comparison**"
      ]
    },
    {
      "cell_type": "code",
      "metadata": {
        "id": "jUxi3wvAwDFG",
        "colab_type": "code",
        "outputId": "31fcc5ff-d06b-4d08-af57-a2384475478c",
        "colab": {
          "base_uri": "https://localhost:8080/",
          "height": 334
        }
      },
      "source": [
        "methods = [\"Logistic Regression\", \"SVM\", \"Random Forest\"]\n",
        "accuracy = [logit_cv.best_score_, svm_cv.best_score_, rfc_cv.best_score_]\n",
        "colors = [\"purple\", \"green\", \"orange\"]\n",
        "\n",
        "sns.set_style(\"whitegrid\")\n",
        "plt.figure(figsize=(16,5))\n",
        "plt.yticks(np.arange(0,1, step=0.2))\n",
        "plt.ylabel(\"Accuracy\")\n",
        "plt.xlabel(\"Algorithms\")\n",
        "sns.barplot(x=methods, y=accuracy, palette=colors)\n",
        "plt.show()"
      ],
      "execution_count": 0,
      "outputs": [
        {
          "output_type": "display_data",
          "data": {
            "image/png": "[encoded data removed]",
            "text/plain": [
              "<Figure size 1152x360 with 1 Axes>"
            ]
          },
          "metadata": {
            "tags": []
          }
        }
      ]
    },
    {
      "cell_type": "markdown",
      "metadata": {
        "id": "vyFXJKLL-hN-",
        "colab_type": "text"
      },
      "source": [
        "# Conclusion & Recommendations"
      ]
    },
    {
      "cell_type": "markdown",
      "metadata": {
        "id": "51AHuA32Rc3T",
        "colab_type": "text"
      },
      "source": [
        "\n",
        "\n",
        "*   **In this business case, false negative is a more serious problem compared to false postive as long as the extra money spending on retaining false postive customers is not too high**\n",
        "*   **For all three different classification models, Random Forest performs the best with an accuracy score of 94%, after tunning the hyperparameters**\n",
        "*   **To reduce the churn rate, according to results from EDA, I would recommend to give promotion to customer with international plan or without voice plan since they are more likely to churn.**\n",
        "*   **Also, if customers are from 'MT' 'ME' 'WA' 'NV' 'MS' 'MI' 'SC' 'MD' 'TX' 'NJ' 'CA', they are more likely to churn. Company should spend more effort on retaining customer in those areas**\n",
        "*   **Daytime spending of customers is also an important feature of churn, if customers have total daytime minutes around 150 and 275, they should be targeted for promotion in order to reduce the churn rate of this group.**\n",
        "\n",
        "\n",
        "\n"
      ]
    }
  ]
}